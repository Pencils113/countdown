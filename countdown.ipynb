{
  "nbformat": 4,
  "nbformat_minor": 0,
  "metadata": {
    "colab": {
      "provenance": []
    },
    "kernelspec": {
      "name": "python3",
      "display_name": "Python 3"
    },
    "language_info": {
      "name": "python"
    }
  },
  "cells": [
    {
      "cell_type": "code",
      "source": [
        "# import necessary packages\n",
        "import os\n",
        "import matplotlib.pyplot as plt\n",
        "import numpy as np\n",
        "import pandas as pd\n",
        "import csv\n",
        "from PIL import Image\n",
        "import requests\n",
        "from io import BytesIO\n",
        "from difflib import SequenceMatcher\n",
        "from skimage.io import imshow\n",
        "import warnings\n",
        "import random\n",
        "import itertools"
      ],
      "metadata": {
        "id": "eyKPIhl4HvyR"
      },
      "execution_count": 1,
      "outputs": []
    },
    {
      "cell_type": "code",
      "execution_count": 2,
      "metadata": {
        "colab": {
          "base_uri": "https://localhost:8080/"
        },
        "id": "35Z_CkOlGgBH",
        "outputId": "7e36c4d5-4358-44b7-cdbc-4c09efa2ef50"
      },
      "outputs": [
        {
          "output_type": "stream",
          "name": "stdout",
          "text": [
            "Cloning into 'english-words'...\n",
            "remote: Enumerating objects: 248, done.\u001b[K\n",
            "remote: Counting objects: 100% (125/125), done.\u001b[K\n",
            "remote: Compressing objects: 100% (42/42), done.\u001b[K\n",
            "remote: Total 248 (delta 97), reused 83 (delta 83), pack-reused 123\u001b[K\n",
            "Receiving objects: 100% (248/248), 27.63 MiB | 19.54 MiB/s, done.\n",
            "Resolving deltas: 100% (117/117), done.\n"
          ]
        }
      ],
      "source": [
        "!git clone https://github.com/dwyl/english-words"
      ]
    },
    {
      "cell_type": "markdown",
      "source": [
        "# Definitions"
      ],
      "metadata": {
        "id": "DB5b04lytR05"
      }
    },
    {
      "cell_type": "markdown",
      "source": [
        "## Words"
      ],
      "metadata": {
        "id": "V4U64eL-no9f"
      }
    },
    {
      "cell_type": "code",
      "source": [
        "with open('/content/english-words/words_alpha.txt') as word_file:\n",
        "  words = set(word_file.read().split())\n",
        "\n",
        "consonants = 'bcdfghjklmnpqrstvwxyz'\n",
        "vowels = 'aeiou'"
      ],
      "metadata": {
        "id": "xYUTRqAgInKz"
      },
      "execution_count": 3,
      "outputs": []
    },
    {
      "cell_type": "code",
      "source": [
        "def sub_word(word, letters):\n",
        "  for letter in word:\n",
        "    if letter not in letters or word.count(letter) > letters.count(letter):\n",
        "      return False\n",
        "  return True\n",
        "\n",
        "def get_letters(vowel_consonant_pattern):\n",
        "  output = \"\"\n",
        "  for char in vowel_consonant_pattern:\n",
        "    if char == 'v':\n",
        "      output += random.choice(vowels)\n",
        "    else:\n",
        "      assert char == 'c'\n",
        "      output += random.choice(consonants)\n",
        "  print(f\"Letters are {output}\")\n",
        "  return output\n",
        "\n",
        "def get_best_word(letters):\n",
        "  max_len = 0\n",
        "  for word in words:\n",
        "    if sub_word(word, letters):\n",
        "      if len(word) > max_len:\n",
        "        max_len = len(word)\n",
        "\n",
        "  max_words = []\n",
        "\n",
        "  for word in words:\n",
        "    if sub_word(word, letters) and len(word) == max_len:\n",
        "      max_words.append(word)\n",
        "\n",
        "  return max_words\n",
        "\n",
        "def letters_round(letters, above_letters=0):\n",
        "  assert(len(letters) == 9)\n",
        "  return_words = [[] for i in range(9)]\n",
        "\n",
        "  for word in words:\n",
        "    if sub_word(word, letters):\n",
        "      return_words[len(word) - 1].append(word)\n",
        "\n",
        "  for i, word_list in enumerate(return_words[::-1]):\n",
        "    if 9 - i > above_letters:\n",
        "      print(f\"{9-i} letter words:\")\n",
        "      for word in word_list:\n",
        "        print(word)\n",
        "      if len(word_list) == 0:\n",
        "        print(\"None found\")"
      ],
      "metadata": {
        "id": "UWC7w0u7Iu-U"
      },
      "execution_count": 4,
      "outputs": []
    },
    {
      "cell_type": "markdown",
      "source": [
        "## Numbers"
      ],
      "metadata": {
        "id": "VMPIzsUdnkwp"
      }
    },
    {
      "cell_type": "markdown",
      "source": [
        "### This way isn't totally comprehensive but is quite fast"
      ],
      "metadata": {
        "id": "six41TAJngxI"
      }
    },
    {
      "cell_type": "code",
      "source": [
        "def symbol_combinations(num_symbols):\n",
        "\n",
        "  symbols = ['+', '-', '*', '/']\n",
        "  all_combinations = itertools.product(symbols, repeat=num_symbols)\n",
        "  output = [''.join(combination) for combination in all_combinations]\n",
        "\n",
        "  return output\n",
        "\n",
        "def possible_orders(num_list):\n",
        "  outcomes = []\n",
        "\n",
        "  for r in range(1, len(num_list) + 1):\n",
        "    for permutation in itertools.permutations(num_list, r):\n",
        "      this_symbols = symbol_combinations(r - 1)\n",
        "      for symbols in this_symbols:\n",
        "        this_outcome = \"\"\n",
        "        for i in range(len(permutation) - 1):\n",
        "          this_outcome += str(permutation[i]) + symbols[i]\n",
        "        this_outcome += str(permutation[-1])\n",
        "\n",
        "        outcomes.append(this_outcome)\n",
        "\n",
        "  evaluations = [eval(outcome) for outcome in outcomes]\n",
        "  return np.array([outcomes, evaluations])\n",
        "\n",
        "def numbers_round(numbers, target):\n",
        "  results = possible_orders(numbers)\n",
        "  answers = np.where(results[1] == str(target))\n",
        "  if len(answers[0]) == 0:\n",
        "    print(\"No result found\")\n",
        "  else:\n",
        "    print(f\"{len(answers[0])} results found\")\n",
        "    for answer in results[0][answers]:\n",
        "      print(answer)"
      ],
      "metadata": {
        "id": "3kBIri7XeUpG"
      },
      "execution_count": 5,
      "outputs": []
    },
    {
      "cell_type": "markdown",
      "source": [
        "### This way gets more values but is slower"
      ],
      "metadata": {
        "id": "m2bGwo8Yncgx"
      }
    },
    {
      "cell_type": "code",
      "source": [
        "def possible_numbers(num_list):\n",
        "  if len(num_list) < 2:\n",
        "    return num_list\n",
        "\n",
        "  if len(num_list) == 2:\n",
        "    a = num_list[0]\n",
        "    b = num_list[1]\n",
        "    outcomes = [a, b, a + b, a - b, a * b]\n",
        "    if (not b == 0) and int(a / b) == a / b:\n",
        "      outcomes.append(int(a / b))\n",
        "\n",
        "    if (not a == 0) and int(b / a) == b / a:\n",
        "      outcomes.append(int(b / a))\n",
        "\n",
        "  else:\n",
        "    outcomes = []\n",
        "\n",
        "    for r in range(1, len(num_list) + 1):\n",
        "      for permutation in itertools.permutations(num_list, r):\n",
        "        for i in range(len(permutation) - 1):\n",
        "          this_outcomes = possible_numbers([permutation[i], permutation[i+1]])\n",
        "          for each_outcome in this_outcomes:\n",
        "            outcomes += possible_numbers(list(permutation[0:i]) + [each_outcome] + list(permutation[i+2:]))\n",
        "\n",
        "  return list(set(outcomes))\n",
        "\n",
        "def useful_numbers(num_list):\n",
        "  all_numbers = possible_numbers(num_list)\n",
        "  useful_numbers = []\n",
        "  for num in all_numbers:\n",
        "    if num > 100 and num < 1000:\n",
        "      useful_numbers.append(num)\n",
        "\n",
        "  return useful_numbers"
      ],
      "metadata": {
        "id": "yQVQqsNKMmuk"
      },
      "execution_count": 6,
      "outputs": []
    },
    {
      "cell_type": "markdown",
      "source": [
        "# Tests"
      ],
      "metadata": {
        "id": "kSrRpLz_s_-B"
      }
    },
    {
      "cell_type": "code",
      "source": [
        "letters_round(get_letters('ccvcvcvvc'), above_letters=5)"
      ],
      "metadata": {
        "colab": {
          "base_uri": "https://localhost:8080/"
        },
        "id": "26lnFb-TtjZ7",
        "outputId": "0715cfbd-6108-4622-de59-f47fb883266b"
      },
      "execution_count": 7,
      "outputs": [
        {
          "output_type": "stream",
          "name": "stdout",
          "text": [
            "Letters are bsesemuel\n",
            "9 letter words:\n",
            "None found\n",
            "8 letter words:\n",
            "None found\n",
            "7 letter words:\n",
            "meubles\n",
            "bemuses\n",
            "beseems\n",
            "6 letter words:\n",
            "smeuse\n",
            "lessee\n",
            "sebums\n",
            "emeses\n",
            "beseem\n",
            "bemuse\n",
            "blesse\n",
            "semese\n",
            "melees\n",
            "umbles\n",
            "semble\n",
            "bessel\n",
            "umbels\n",
            "blumes\n",
            "mussel\n"
          ]
        }
      ]
    },
    {
      "cell_type": "code",
      "source": [
        "letters_round('petrovild', above_letters=5)"
      ],
      "metadata": {
        "colab": {
          "base_uri": "https://localhost:8080/"
        },
        "id": "vhtdJDVmtDaK",
        "outputId": "891d383c-519b-4aee-b216-ebdb3fadddcc"
      },
      "execution_count": 8,
      "outputs": [
        {
          "output_type": "stream",
          "name": "stdout",
          "text": [
            "9 letter words:\n",
            "None found\n",
            "8 letter words:\n",
            "None found\n",
            "7 letter words:\n",
            "poitrel\n",
            "dropvie\n",
            "prevoid\n",
            "provide\n",
            "viroled\n",
            "pretold\n",
            "protide\n",
            "diopter\n",
            "pivoted\n",
            "leproid\n",
            "pteroid\n",
            "pivoter\n",
            "dioptre\n",
            "droplet\n",
            "leporid\n",
            "tripled\n",
            "overtip\n",
            "piloted\n",
            "proetid\n",
            "politer\n",
            "peridot\n",
            "proteid\n",
            "overlip\n",
            "6 letter words:\n",
            "violer\n",
            "divert\n",
            "dipole\n",
            "toivel\n",
            "toiler\n",
            "porite\n",
            "piolet\n",
            "divort\n",
            "petrol\n",
            "redipt\n",
            "livedo\n",
            "ported\n",
            "replod\n",
            "virled\n",
            "triole\n",
            "leprid\n",
            "rioted\n",
            "podite\n",
            "polder\n",
            "dopier\n",
            "leptid\n",
            "dolite\n",
            "diploe\n",
            "loiter\n",
            "pioted\n",
            "roiled\n",
            "dotier\n",
            "devoir\n",
            "triple\n",
            "virole\n",
            "peloid\n",
            "protei\n",
            "perdit\n",
            "violet\n",
            "potlid\n",
            "rodlet\n",
            "retold\n",
            "polite\n",
            "oliver\n",
            "drivel\n",
            "plover\n",
            "torpid\n",
            "dipter\n",
            "editor\n",
            "ortive\n",
            "revolt\n",
            "idolet\n",
            "pretil\n",
            "privet\n",
            "edplot\n",
            "tirled\n",
            "triode\n",
            "tripel\n",
            "epirot\n",
            "period\n",
            "deport\n",
            "proved\n",
            "redtop\n",
            "prevot\n",
            "tripod\n",
            "lovier\n",
            "olived\n",
            "podler\n",
            "replot\n",
            "protid\n",
            "voider\n",
            "trepid\n",
            "optive\n",
            "toiled\n",
            "liepot\n",
            "torvid\n",
            "olivet\n",
            "perlid\n"
          ]
        }
      ]
    },
    {
      "cell_type": "code",
      "source": [
        "numbers_round([75, 50, 5, 6, 10], 309)"
      ],
      "metadata": {
        "colab": {
          "base_uri": "https://localhost:8080/"
        },
        "id": "llTLd4Dqs-8R",
        "outputId": "9c583ece-8e5b-4691-c145-7f006cfc21e0"
      },
      "execution_count": 12,
      "outputs": [
        {
          "output_type": "stream",
          "name": "stdout",
          "text": [
            "36 results found\n",
            "75+50*5-6-10\n",
            "75+50*5-10-6\n",
            "75+5*50-6-10\n",
            "75*5-50-6-10\n",
            "75+5*50-10-6\n",
            "75*5-50-10-6\n",
            "75*5-6-50-10\n",
            "75*5-6-10-50\n",
            "75*5-10-50-6\n",
            "75*5-10-6-50\n",
            "75-6+50*5-10\n",
            "75-6+5*50-10\n",
            "75-6-10+50*5\n",
            "75-6-10+5*50\n",
            "75-10+50*5-6\n",
            "75-10+5*50-6\n",
            "75-10-6+50*5\n",
            "75-10-6+5*50\n",
            "50*5+75-6-10\n",
            "50*5+75-10-6\n",
            "50*5-6+75-10\n",
            "50*5-6-10+75\n",
            "50*5-10+75-6\n",
            "50*5-10-6+75\n",
            "5*75-50-6-10\n",
            "5*75-50-10-6\n",
            "5*75-6-50-10\n",
            "5*75-6-10-50\n",
            "5*75-10-50-6\n",
            "5*75-10-6-50\n",
            "5*50+75-6-10\n",
            "5*50+75-10-6\n",
            "5*50-6+75-10\n",
            "5*50-6-10+75\n",
            "5*50-10+75-6\n",
            "5*50-10-6+75\n"
          ]
        }
      ]
    }
  ]
}